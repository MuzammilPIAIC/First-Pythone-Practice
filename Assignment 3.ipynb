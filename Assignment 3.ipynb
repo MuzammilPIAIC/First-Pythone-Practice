{
 "cells": [
  {
   "cell_type": "markdown",
   "metadata": {},
   "source": [
    "<h3>Q no 1:  Write a python program to find number of occurrences of given number in a list with out using built-in methods</h3>\n",
    "<h4>**1 generate a list of some random num which is repeated again and again</h4>\n",
    "<h4>**2 take user input any number</h4>\n",
    "<h4>**3 find the number of occurrences of that num in your list</h4>\n",
    "<h4>**4 print some message to user with that result</h4>"
   ]
  },
  {
   "cell_type": "code",
   "execution_count": 2,
   "metadata": {},
   "outputs": [
    {
     "name": "stdout",
     "output_type": "stream",
     "text": [
      "Enter any number to find out its occurance: 2\n"
     ]
    }
   ],
   "source": [
    "random_number = [2,34,67,54,3,21,4,7,3,0,6,3,45,32,1,3]\n",
    "input_number=int(input(\"Enter any number to find out its occurance: \"))"
   ]
  },
  {
   "cell_type": "code",
   "execution_count": 3,
   "metadata": {},
   "outputs": [
    {
     "name": "stdout",
     "output_type": "stream",
     "text": [
      "Occurance 1\n"
     ]
    }
   ],
   "source": [
    "occurance=0\n",
    "for i in random_number:\n",
    "    if(input_number==i):\n",
    "        occurance+=1\n",
    "print(\"Occurance\",occurance )"
   ]
  },
  {
   "cell_type": "markdown",
   "metadata": {},
   "source": [
    "<h3>Q no 2:   [\"www.zframez.com\", \"www.wikipedia.org\", \"www.asp.net\", \"www.abcd.in\"]\n",
    "<br/><br/><br/><br/><br/>\n",
    "Write a python program to print website suffixes (com , org , net ,in) from this list\n",
    "\n",
    "Hint : Use split() method to perform this task\n",
    "</h3>\n"
   ]
  },
  {
   "cell_type": "code",
   "execution_count": 8,
   "metadata": {},
   "outputs": [
    {
     "name": "stdout",
     "output_type": "stream",
     "text": [
      "com\n",
      "org\n",
      "net\n",
      "in\n"
     ]
    }
   ],
   "source": [
    "web = (\"www.zframez.com\", \"www.wikipedia.org\", \"www.asp.net\", \"www.abcd.in\")\n",
    "for i in web:\n",
    "    print(i.split(\".\")[-1])"
   ]
  },
  {
   "cell_type": "code",
   "execution_count": null,
   "metadata": {},
   "outputs": [],
   "source": []
  },
  {
   "cell_type": "markdown",
   "metadata": {},
   "source": [
    "<h3> Q no 3 : Write a program which can compute the factorial of a given numbers.</h3>\n",
    "<br/>\n",
    "<br/>\n",
    "<h4>**1 first take user input any number</h4>\n",
    "<h4>**2 calculate factorial of that input and then print the result to user</h4>"
   ]
  },
  {
   "cell_type": "code",
   "execution_count": 12,
   "metadata": {},
   "outputs": [
    {
     "name": "stdout",
     "output_type": "stream",
     "text": [
      "Enter a num 7\n",
      "the factorail of 7 is 5040\n"
     ]
    }
   ],
   "source": [
    "n = int(input(\"Enter a num \"))\n",
    "result = 1\n",
    "for i in range(n,0,-1):\n",
    "    result=result*i\n",
    "print(\"the factorail of\",n,\"is\",result)"
   ]
  },
  {
   "cell_type": "code",
   "execution_count": null,
   "metadata": {},
   "outputs": [],
   "source": []
  },
  {
   "cell_type": "code",
   "execution_count": null,
   "metadata": {},
   "outputs": [],
   "source": []
  },
  {
   "cell_type": "code",
   "execution_count": null,
   "metadata": {},
   "outputs": [],
   "source": []
  },
  {
   "cell_type": "markdown",
   "metadata": {},
   "source": [
    "<h3>Q 4 (a) :  If you could invite anyone, living or deceased, to dinner, who\n",
    "would you invite? Make a list that includes at least three people you’d like to\n",
    "invite to dinner. Then use your list to print a message to each person, inviting\n",
    "them to dinner.</h3>"
   ]
  },
  {
   "cell_type": "code",
   "execution_count": 33,
   "metadata": {},
   "outputs": [
    {
     "name": "stdout",
     "output_type": "stream",
     "text": [
      "Imran My brother you are invite in my party\n",
      "Wahab My brother you are invite in my party\n",
      "Asad My brother you are invite in my party\n",
      "Tosif My brother you are invite in my party\n"
     ]
    }
   ],
   "source": [
    "guest=[\"Imran\",\"Wahab\",\"Asad\",\"Tosif\"]\n",
    "for name in guest:\n",
    "    print(name,\"My brother you are invite in my party\")\n"
   ]
  },
  {
   "cell_type": "code",
   "execution_count": null,
   "metadata": {},
   "outputs": [],
   "source": []
  },
  {
   "cell_type": "code",
   "execution_count": null,
   "metadata": {},
   "outputs": [],
   "source": []
  },
  {
   "cell_type": "markdown",
   "metadata": {},
   "source": [
    "<h3>Q 4 (b) : You just heard that one of your guests can’t make the\n",
    "dinner, so you need to send out a new set of invitations. You’ll have to think of\n",
    "someone else to invite.<br/></br><br/>\n",
    "•\t Start with your program from Q 4 (a). Add a print statement at the\n",
    "end of your program stating the name of the guest who can’t make it.<br/></br><br/>\n",
    "•\t Modify your list, replacing the name of the guest who can’t make it with\n",
    "the name of the new person you are inviting.<br/></br><br/>\n",
    "•\t Print a second set of invitation messages, one for each person who is still\n",
    "in your list.<br/></br><br/></h3>"
   ]
  },
  {
   "cell_type": "code",
   "execution_count": 20,
   "metadata": {},
   "outputs": [
    {
     "name": "stdout",
     "output_type": "stream",
     "text": [
      "Wahab : sorry, I am not coming\n"
     ]
    }
   ],
   "source": [
    "guest=(\"Imran\",\"Wahab\",\"Asad\",\"Tosif\")\n",
    "print(guest[1],\": sorry, I am not coming\")"
   ]
  },
  {
   "cell_type": "code",
   "execution_count": 34,
   "metadata": {},
   "outputs": [
    {
     "name": "stdout",
     "output_type": "stream",
     "text": [
      "New list of guests: ['Asim', 'Wahab', 'Asad', 'Tosif']\n"
     ]
    }
   ],
   "source": [
    "new_guest=guest=[\"Imran\",\"Wahab\",\"Asad\",\"Tosif\"]\n",
    "new_guest[0]=\"Asim\"\n",
    "print(\"New list of guests:\",new_guest)"
   ]
  },
  {
   "cell_type": "code",
   "execution_count": 32,
   "metadata": {},
   "outputs": [
    {
     "name": "stdout",
     "output_type": "stream",
     "text": [
      "Asim ! My brother you are invite in my party\n",
      "Wahab ! My brother you are invite in my party\n",
      "Asad ! My brother you are invite in my party\n",
      "Tosif ! My brother you are invite in my party\n"
     ]
    }
   ],
   "source": [
    "for name in new_guest:\n",
    "    print(name,\"! My brother you are invite in my party\")"
   ]
  },
  {
   "cell_type": "markdown",
   "metadata": {},
   "source": [
    "<h3>Q 4 (c) : You just found a bigger dinner table, so now more space is\n",
    "available. Think of three more guests to invite to dinner.<br/></br><br/>\n",
    "•\t Start with your program from Q 4 (a) and (b) Add a print\n",
    "statement to the end of your program informing people that you found a\n",
    "bigger dinner table.<br/></br><br/>\n",
    "•\t Use insert() to add one new guest to the beginning of your list.<br/></br><br/>\n",
    "•\t Use insert() to add one new guest to the middle of your list.<br/></br><br/>\n",
    "•\t Use append() to add one new guest to the end of your list.<br/></br><br/>\n",
    "•\t Print a new set of invitation messages, one for each person in your list.<br/></br><br/></h3>"
   ]
  },
  {
   "cell_type": "code",
   "execution_count": 24,
   "metadata": {},
   "outputs": [
    {
     "name": "stdout",
     "output_type": "stream",
     "text": [
      "Asim I have a big dinner table\n",
      "Wahab I have a big dinner table\n",
      "Asad I have a big dinner table\n",
      "Tosif I have a big dinner table\n"
     ]
    }
   ],
   "source": [
    "for name in new_guest:\n",
    "    print(name,\"I have a big dinner table\")"
   ]
  },
  {
   "cell_type": "code",
   "execution_count": 35,
   "metadata": {},
   "outputs": [
    {
     "data": {
      "text/plain": [
       "['Sonu', 'Asim', 'Zaeem', 'Wahab', 'Asad', 'Tosif', 'hamza']"
      ]
     },
     "execution_count": 35,
     "metadata": {},
     "output_type": "execute_result"
    }
   ],
   "source": [
    "new_guest.insert(0,\"Sonu\")\n",
    "new_guest.insert(2,\"Zaeem\")\n",
    "new_guest.append(\"hamza\")\n",
    "new_guest\n"
   ]
  },
  {
   "cell_type": "code",
   "execution_count": 36,
   "metadata": {},
   "outputs": [
    {
     "name": "stdout",
     "output_type": "stream",
     "text": [
      "Sonu ! My brother you are invite in my party\n",
      "Asim ! My brother you are invite in my party\n",
      "Zaeem ! My brother you are invite in my party\n",
      "Wahab ! My brother you are invite in my party\n",
      "Asad ! My brother you are invite in my party\n",
      "Tosif ! My brother you are invite in my party\n",
      "hamza ! My brother you are invite in my party\n"
     ]
    }
   ],
   "source": [
    "for name in new_guest:\n",
    "    print(name,\"! My brother you are invite in my party\")"
   ]
  },
  {
   "cell_type": "markdown",
   "metadata": {},
   "source": [
    "<h5> Q 5 : Here you have some data in variable below, your task is to make a list of specific word Surah then print the list and length of list</h5>\n"
   ]
  },
  {
   "cell_type": "code",
   "execution_count": 46,
   "metadata": {},
   "outputs": [
    {
     "name": "stdout",
     "output_type": "stream",
     "text": [
      "['Al-Baqarah', 'Al-Muzammil', 'Yaseen']\n",
      "3\n"
     ]
    }
   ],
   "source": [
    "Surah = ['Al-Baqarah' , 'Al-Muzammil' , 'Yaseen'] \n",
    "print(Surah)\n",
    "\n",
    "print(len(Surah))"
   ]
  },
  {
   "cell_type": "code",
   "execution_count": null,
   "metadata": {},
   "outputs": [],
   "source": []
  },
  {
   "cell_type": "markdown",
   "metadata": {},
   "source": [
    " <h3>Q no 6 : You have some name of cities in list named cities, Your task is to check whether Karachi is present in this list or not, if present print the index where the value Karachi is present</h3>"
   ]
  },
  {
   "cell_type": "code",
   "execution_count": 39,
   "metadata": {},
   "outputs": [
    {
     "data": {
      "text/plain": [
       "['karachi', 'islamabad', 'dehli', 'lahore']"
      ]
     },
     "execution_count": 39,
     "metadata": {},
     "output_type": "execute_result"
    }
   ],
   "source": [
    "cities = [\"karachi\",\"islamabad\",\"dehli\",\"lahore\"]\n",
    "cities"
   ]
  },
  {
   "cell_type": "code",
   "execution_count": 44,
   "metadata": {},
   "outputs": [
    {
     "name": "stdout",
     "output_type": "stream",
     "text": [
      "karachi is present in list\n"
     ]
    }
   ],
   "source": [
    "for i in cities:\n",
    "    if i == \"karachi\":\n",
    "        print(\"karachi is present in list\")"
   ]
  },
  {
   "cell_type": "code",
   "execution_count": 45,
   "metadata": {},
   "outputs": [
    {
     "name": "stdout",
     "output_type": "stream",
     "text": [
      "Index vlaue of karachi is 0\n"
     ]
    }
   ],
   "source": [
    "print(\"Index vlaue of karachi is\",cities.index(\"karachi\"))"
   ]
  },
  {
   "cell_type": "code",
   "execution_count": null,
   "metadata": {},
   "outputs": [],
   "source": []
  }
 ],
 "metadata": {
  "kernelspec": {
   "display_name": "Python 3",
   "language": "python",
   "name": "python3"
  },
  "language_info": {
   "codemirror_mode": {
    "name": "ipython",
    "version": 3
   },
   "file_extension": ".py",
   "mimetype": "text/x-python",
   "name": "python",
   "nbconvert_exporter": "python",
   "pygments_lexer": "ipython3",
   "version": "3.7.3"
  }
 },
 "nbformat": 4,
 "nbformat_minor": 2
}
