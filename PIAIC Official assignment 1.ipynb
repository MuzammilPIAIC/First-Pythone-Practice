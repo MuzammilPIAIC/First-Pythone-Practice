{
 "cells": [
  {
   "cell_type": "markdown",
   "metadata": {},
   "source": [
    "## 1. Calculate Area of a Circle"
   ]
  },
  {
   "cell_type": "markdown",
   "metadata": {},
   "source": [
    "#### Write a Python program which accepts the radius of a circle from the user and compute the area.\n",
    "###### Program Console Sample Output 1:\n",
    "###### Input Radius: 0.5\n",
    "###### Area of Circle with radius 0.5 is 0.7853981634"
   ]
  },
  {
   "cell_type": "code",
   "execution_count": 1,
   "metadata": {},
   "outputs": [
    {
     "name": "stdout",
     "output_type": "stream",
     "text": [
      "Enter the radius;0.5\n",
      "Area of Circle with radius 0.785 is 0.5\n"
     ]
    }
   ],
   "source": [
    "radius=float(input(\"Enter the radius;\"))\n",
    "c=(3.14*(radius**2))\n",
    "print(\"Area of Circle with radius\",c,\"is\",radius)"
   ]
  },
  {
   "cell_type": "code",
   "execution_count": null,
   "metadata": {},
   "outputs": [],
   "source": []
  },
  {
   "cell_type": "code",
   "execution_count": null,
   "metadata": {},
   "outputs": [],
   "source": []
  },
  {
   "cell_type": "markdown",
   "metadata": {},
   "source": [
    "## 2. Check Number either positive, negative or zero"
   ]
  },
  {
   "cell_type": "markdown",
   "metadata": {},
   "source": [
    "#### Write a Python program to check if a number is positive, negative or zero\n",
    "###### Program Console Sample Output 1:\n",
    "###### Enter Number: -1\n",
    "##### Negative Number Entered\n",
    "###### Program Console Sample Output 2:\n",
    "##### Integer: 3\n",
    "##### Positive Number Entered\n",
    "###### Program Console Sample Output 3:\n",
    "##### Integer: 0\n",
    "###### Zero Entered"
   ]
  },
  {
   "cell_type": "code",
   "execution_count": 2,
   "metadata": {},
   "outputs": [
    {
     "name": "stdout",
     "output_type": "stream",
     "text": [
      "enter the no;-1\n",
      "Negative Integer\n"
     ]
    }
   ],
   "source": [
    "x=int(input(\"enter the no;\"))\n",
    "if x > 0:\n",
    "   print(\"Positive Integer\")\n",
    "elif x< 0:\n",
    "    print(\"Negative Integer\")\n",
    "else:\n",
    "   print(\"Zero Entered\")"
   ]
  },
  {
   "cell_type": "code",
   "execution_count": 3,
   "metadata": {},
   "outputs": [
    {
     "name": "stdout",
     "output_type": "stream",
     "text": [
      "enter the no3\n",
      "Positive Integer\n"
     ]
    }
   ],
   "source": [
    "x=int(input(\"enter the no\"))\n",
    "if x > 0:\n",
    "   print(\"Positive Integer\")\n",
    "elif x< 0:\n",
    "    print(\"Negative Integer\")\n",
    "else:\n",
    "   print(\"Zero Entered\")"
   ]
  },
  {
   "cell_type": "code",
   "execution_count": 4,
   "metadata": {},
   "outputs": [
    {
     "name": "stdout",
     "output_type": "stream",
     "text": [
      "enter the no0\n",
      "Zero Entered\n"
     ]
    }
   ],
   "source": [
    "x=int(input(\"enter the no\"))\n",
    "if x > 0:\n",
    "   print(\"Positive Integer\")\n",
    "elif x< 0:\n",
    "    print(\"Negative Integer\")\n",
    "else:\n",
    "   print(\"Zero Entered\")"
   ]
  },
  {
   "cell_type": "code",
   "execution_count": null,
   "metadata": {},
   "outputs": [],
   "source": []
  },
  {
   "cell_type": "markdown",
   "metadata": {},
   "source": [
    "## 3. Divisibility Check of two numbers"
   ]
  },
  {
   "cell_type": "markdown",
   "metadata": {},
   "source": [
    "#### Write a Python program to check whether a number is completely divisible by another number. Accept two integer values form the user\n",
    "##### Program Console Sample Output 1:\n",
    "###### Enter numerator: 4\n",
    "###### Enter Denominator: 2\n",
    "##### Number 4 is Completely divisible by 2\n",
    "###### Program Console Sample Output 2:\n",
    "##### Enter numerator: 7\n",
    "\n",
    "##### Enter Denominator: 4\n",
    "###### Number 7 is not Completely divisible by 4"
   ]
  },
  {
   "cell_type": "code",
   "execution_count": 5,
   "metadata": {},
   "outputs": [
    {
     "name": "stdout",
     "output_type": "stream",
     "text": [
      "Enter numerator: 4\n",
      "Enter denominator: 2\n",
      "Number 4 is completely divisible by 2\n"
     ]
    }
   ],
   "source": [
    "a=int(input(\"Enter numerator: \"))\n",
    "b=int(input(\"Enter denominator: \"))\n",
    "if a%b==0:\n",
    "    print(\"Number\",a,\"is completely divisible by\",b)\n",
    "else:\n",
    "    print(\"Number\",a,\"is not completely divisible by\",b)"
   ]
  },
  {
   "cell_type": "code",
   "execution_count": 6,
   "metadata": {},
   "outputs": [
    {
     "name": "stdout",
     "output_type": "stream",
     "text": [
      "Enter numerator: 4\n",
      "Enter denominator: 7\n",
      "Number 4 is not completely divisible by 7\n"
     ]
    }
   ],
   "source": [
    "a=int(input(\"Enter numerator: \"))\n",
    "b=int(input(\"Enter denominator: \"))\n",
    "if a%b==0:\n",
    "    print(\"Number\",a,\"is completely divisible by\",b)\n",
    "else:\n",
    "    print(\"Number\",a,\"is not completely divisible by\",b)"
   ]
  },
  {
   "cell_type": "code",
   "execution_count": null,
   "metadata": {},
   "outputs": [],
   "source": []
  },
  {
   "cell_type": "code",
   "execution_count": null,
   "metadata": {},
   "outputs": [],
   "source": []
  },
  {
   "cell_type": "code",
   "execution_count": null,
   "metadata": {},
   "outputs": [],
   "source": []
  },
  {
   "cell_type": "code",
   "execution_count": null,
   "metadata": {},
   "outputs": [],
   "source": []
  },
  {
   "cell_type": "markdown",
   "metadata": {},
   "source": [
    "## 4. Calculate Volume of a sphere"
   ]
  },
  {
   "cell_type": "markdown",
   "metadata": {},
   "source": [
    "##### Write a Python program to get the volume of a sphere, please take the radius as input from user"
   ]
  },
  {
   "cell_type": "markdown",
   "metadata": {},
   "source": [
    "##### Program Console Output:\n",
    "##### Enter Radius of Sphere: 1\n",
    "###### Volume of the Sphere with Radius 1 is 4.18"
   ]
  },
  {
   "cell_type": "code",
   "execution_count": 7,
   "metadata": {},
   "outputs": [
    {
     "name": "stdout",
     "output_type": "stream",
     "text": [
      "enter radius of sphere: 1\n",
      "valume of sphere with rdius 1 is 4.1866666666666665\n"
     ]
    }
   ],
   "source": [
    "x=int(input(\"enter radius of sphere: \"))\n",
    "b=(4/3 * (3.14 * x**3))\n",
    "print(\"valume of sphere with rdius\",x,\"is\",b)"
   ]
  },
  {
   "cell_type": "code",
   "execution_count": null,
   "metadata": {},
   "outputs": [],
   "source": []
  },
  {
   "cell_type": "code",
   "execution_count": null,
   "metadata": {},
   "outputs": [],
   "source": []
  },
  {
   "cell_type": "code",
   "execution_count": null,
   "metadata": {},
   "outputs": [],
   "source": []
  },
  {
   "cell_type": "code",
   "execution_count": null,
   "metadata": {},
   "outputs": [],
   "source": []
  },
  {
   "cell_type": "markdown",
   "metadata": {},
   "source": [
    "## 5. Copy string n times\n",
    "#### Write a Python program to get a string which is n (non-negative integer) copies of a given string.\n",
    "##### Program Console Output:\n",
    "##### Enter String: Hi\n",
    "###### How many copies of String you need: 4\n",
    "###### 4 Copies of Hi are HiHiHiHi"
   ]
  },
  {
   "cell_type": "code",
   "execution_count": 8,
   "metadata": {},
   "outputs": [
    {
     "name": "stdout",
     "output_type": "stream",
     "text": [
      "Enter String; hi\n",
      "How many copies of string; 4\n",
      "4 copies of hi hihihihi\n"
     ]
    }
   ],
   "source": [
    "string=str(input(\"Enter String; \"))\n",
    "x=int(input(\"How many copies of string; \"))\n",
    "\n",
    "c=(string*x)\n",
    "print(\"4 copies of hi\",c)\n"
   ]
  },
  {
   "cell_type": "code",
   "execution_count": null,
   "metadata": {},
   "outputs": [],
   "source": []
  },
  {
   "cell_type": "code",
   "execution_count": null,
   "metadata": {},
   "outputs": [],
   "source": []
  },
  {
   "cell_type": "code",
   "execution_count": null,
   "metadata": {},
   "outputs": [],
   "source": []
  },
  {
   "cell_type": "code",
   "execution_count": null,
   "metadata": {},
   "outputs": [],
   "source": []
  },
  {
   "cell_type": "markdown",
   "metadata": {},
   "source": [
    "## 6. Check if number is Even or Odd\n",
    "### Write a Python program to find whether a given number (accept from the user) is even or odd, print out an appropriate message to the user\n",
    "#### Program Console Output 1:\n",
    "##### Enter Number: 4\n",
    "###### 4 is Even\n",
    "#### Program Console Output 2:\n",
    "##### Enter Number: 9\n",
    "###### 9 is Odd"
   ]
  },
  {
   "cell_type": "code",
   "execution_count": 9,
   "metadata": {},
   "outputs": [
    {
     "name": "stdout",
     "output_type": "stream",
     "text": [
      "Enter the Number; 2\n",
      "Entered number is even number \n"
     ]
    }
   ],
   "source": [
    "m=int(input(\"Enter the Number; \"))\n",
    "if m%2==0:\n",
    "    print(\"Entered number is even number \")\n",
    "else:\n",
    "    print(\"Entered number is not even number\")\n",
    "    "
   ]
  },
  {
   "cell_type": "code",
   "execution_count": 10,
   "metadata": {},
   "outputs": [
    {
     "name": "stdout",
     "output_type": "stream",
     "text": [
      "Enter the Number; 3\n",
      "Entered number is odd number \n"
     ]
    }
   ],
   "source": [
    "x=int(input(\"Enter the Number; \"))\n",
    "if x%2!=0:\n",
    "    print(\"Entered number is odd number \")\n",
    "else:\n",
    "    print(\"Entered number is not odd number\")"
   ]
  },
  {
   "cell_type": "code",
   "execution_count": null,
   "metadata": {},
   "outputs": [],
   "source": []
  },
  {
   "cell_type": "code",
   "execution_count": null,
   "metadata": {},
   "outputs": [],
   "source": []
  },
  {
   "cell_type": "code",
   "execution_count": null,
   "metadata": {},
   "outputs": [],
   "source": []
  },
  {
   "cell_type": "markdown",
   "metadata": {},
   "source": [
    "## 7. Vowel Tester\n",
    "### Write a Python program to test whether a passed letter is a vowel or not\n",
    "#### Program Console Output 1:\n",
    "##### Enter a character: A\n",
    "###### Letter A is Vowel\n",
    "#### Program Console Output 2:\n",
    "##### Enter a character: e\n",
    "###### Letter e is Vowel\n",
    "#### Program Console Output 2:\n",
    "##### Enter a character: N\n",
    "###### Letter N is not Vowel"
   ]
  },
  {
   "cell_type": "code",
   "execution_count": 11,
   "metadata": {},
   "outputs": [
    {
     "name": "stdout",
     "output_type": "stream",
     "text": [
      "Enter a character: A\n",
      "Letter A is Vowel: \n"
     ]
    }
   ],
   "source": [
    "m=(input(\"Enter a character: \"))\n",
    "if (m==\"a\" or m==\"e\" or m==\"i\" or m==\"o\" or m==\"u\" or m==\"A\" or m==\"E\" or m==\"I\" or m==\"O\" or m==\"U\"):\n",
    "    print(\"Letter\",m,\"is Vowel: \")\n",
    "else:\n",
    "    print(\"Letter,\",m,\"is not Vowel\")\n",
    "    \n"
   ]
  },
  {
   "cell_type": "code",
   "execution_count": 12,
   "metadata": {},
   "outputs": [
    {
     "name": "stdout",
     "output_type": "stream",
     "text": [
      "Enter a character: e\n",
      "Letter e is Vowel: \n"
     ]
    }
   ],
   "source": [
    "m=(input(\"Enter a character: \"))\n",
    "if (m==\"a\" or m==\"e\" or m==\"i\" or m==\"o\" or m==\"u\" or m==\"A\" or m==\"E\" or m==\"I\" or m==\"O\" or m==\"U\"):\n",
    "    print(\"Letter\",m,\"is Vowel: \")\n",
    "else:\n",
    "    print(\"Letter,\",m,\"is not Vowel\")"
   ]
  },
  {
   "cell_type": "code",
   "execution_count": 13,
   "metadata": {},
   "outputs": [
    {
     "name": "stdout",
     "output_type": "stream",
     "text": [
      "Enter a character: n\n",
      "Letter, n is not Vowel\n"
     ]
    }
   ],
   "source": [
    "m=(input(\"Enter a character: \"))\n",
    "if (m==\"a\" or m==\"e\" or m==\"i\" or m==\"o\" or m==\"u\" or m==\"A\" or m==\"E\" or m==\"I\" or m==\"O\" or m==\"U\"):\n",
    "    print(\"Letter\",m,\"is Vowel: \")\n",
    "else:\n",
    "    print(\"Letter,\",m,\"is not Vowel\")"
   ]
  },
  {
   "cell_type": "code",
   "execution_count": 14,
   "metadata": {},
   "outputs": [
    {
     "name": "stdout",
     "output_type": "stream",
     "text": [
      "Enter a character: P\n",
      "Letter, P is not Vowel\n"
     ]
    }
   ],
   "source": [
    "m=(input(\"Enter a character: \"))\n",
    "if (m==\"a\" or m==\"e\" or m==\"i\" or m==\"o\" or m==\"u\" or m==\"A\" or m==\"E\" or m==\"I\" or m==\"O\" or m==\"U\"):\n",
    "    print(\"Letter\",m,\"is Vowel: \")\n",
    "else:\n",
    "    print(\"Letter,\",m,\"is not Vowel\")"
   ]
  },
  {
   "cell_type": "markdown",
   "metadata": {},
   "source": [
    "## 8. Triangle area\n",
    "### Write a Python program that will accept the base and height of a triangle and compute the area\n",
    "###### Reference:\n",
    "https://www.mathgoodies.com/lessons/vol1/area_triangle"
   ]
  },
  {
   "cell_type": "code",
   "execution_count": 15,
   "metadata": {},
   "outputs": [
    {
     "name": "stdout",
     "output_type": "stream",
     "text": [
      "Enter value of base of triangle: 6\n",
      "Enter value of hieght of triangle: 8\n",
      "Area of triangle is 24.0\n"
     ]
    }
   ],
   "source": [
    "m=float(input(\"Enter value of base of triangle: \"))\n",
    "x=float(input(\"Enter value of hieght of triangle: \"))\n",
    "formula=((m*x)/2)\n",
    "print('Area of triangle is',formula,)"
   ]
  },
  {
   "cell_type": "code",
   "execution_count": null,
   "metadata": {},
   "outputs": [],
   "source": []
  },
  {
   "cell_type": "code",
   "execution_count": null,
   "metadata": {},
   "outputs": [],
   "source": []
  },
  {
   "cell_type": "code",
   "execution_count": null,
   "metadata": {},
   "outputs": [],
   "source": []
  },
  {
   "cell_type": "markdown",
   "metadata": {},
   "source": [
    "## 9. Calculate Interest\n",
    "### Write a Python program to compute the future value of a specified principal amount, rate of interest, and a number of years\n",
    "#### Program Console Sample 1:\n",
    "##### Please enter principal amount: 10000\n",
    "###### Please Enter Rate of interest in %: 0.1\n",
    "###### Enter number of years for investment: 5\n",
    "###### After 5 years your principal amount 10000 over an interest rate of 0.1 % will be 16105.1"
   ]
  },
  {
   "cell_type": "code",
   "execution_count": 16,
   "metadata": {},
   "outputs": [
    {
     "name": "stdout",
     "output_type": "stream",
     "text": [
      "pls enter principal amount: 10000\n",
      "pls enter rate of interest in %: 0.1\n",
      "enter number of yrs: 5\n",
      "after 5 yrs your principle amount 10000 over an interest rate of 0.1 will be 11000.0\n"
     ]
    }
   ],
   "source": [
    "a=int(input(\"pls enter principal amount: \"))\n",
    "B=float(input(\"pls enter rate of interest in %: \"))\n",
    "C=int(input(\"enter number of yrs: \"))\n",
    "for k in range(C):\n",
    "     A=a*(1+B)\n",
    "print(\"after\",C,\"yrs your principle amount\",a,\"over an interest rate of\",B,\"will be\",A)"
   ]
  },
  {
   "cell_type": "code",
   "execution_count": null,
   "metadata": {},
   "outputs": [],
   "source": []
  },
  {
   "cell_type": "code",
   "execution_count": null,
   "metadata": {},
   "outputs": [],
   "source": []
  },
  {
   "cell_type": "code",
   "execution_count": null,
   "metadata": {},
   "outputs": [],
   "source": []
  },
  {
   "cell_type": "code",
   "execution_count": null,
   "metadata": {},
   "outputs": [],
   "source": []
  },
  {
   "cell_type": "code",
   "execution_count": null,
   "metadata": {},
   "outputs": [],
   "source": []
  },
  {
   "cell_type": "markdown",
   "metadata": {},
   "source": [
    "## 10. Euclidean distance\n",
    "### write a Python program to compute the distance between the points (x1, y1) and (x2, y2).\n",
    "#### Program Console Sample 1:\n",
    "###### Enter Co-ordinate for x1: 2\n",
    "###### Enter Co-ordinate for x2: 4\n",
    "###### Enter Co-ordinate for y1: 4\n",
    "###### Enter Co-ordinate for y2: 4\n",
    "###### Distance between points (2, 4) and (4, 4) is 2"
   ]
  },
  {
   "cell_type": "markdown",
   "metadata": {},
   "source": [
    "###### Reference:\n",
    "https://en.wikipedia.org/wiki/Euclidean_distance"
   ]
  },
  {
   "cell_type": "code",
   "execution_count": 18,
   "metadata": {},
   "outputs": [
    {
     "name": "stdout",
     "output_type": "stream",
     "text": [
      "enter co-ordinate for x1: 8\n",
      "enter co-ordinate for x2: 3\n",
      "enter co-ordinate for y1: 7\n",
      "enter co-ordinate for y2: 1\n",
      "Distance between points ( 8.0  ,  7.0 )and ( 3.0  ,  1.0 ) is : 2.23606797749979\n"
     ]
    }
   ],
   "source": [
    "import math\n",
    "x1=float(input(\"enter co-ordinate for x1: \"))\n",
    "x2=float(input(\"enter co-ordinate for x2: \"))\n",
    "y1=float(input(\"enter co-ordinate for y1: \"))\n",
    "y2=float(input(\"enter co-ordinate for y2: \"))\n",
    "Formula=math.sqrt( ((x1-y1)**2)+((x2-y2)**2))\n",
    "print(\"Distance between points (\",x1,\" , \",y1,\")and (\",x2,\" , \",y2,\") is :\",Formula)"
   ]
  },
  {
   "cell_type": "code",
   "execution_count": null,
   "metadata": {},
   "outputs": [],
   "source": []
  },
  {
   "cell_type": "code",
   "execution_count": null,
   "metadata": {},
   "outputs": [],
   "source": []
  },
  {
   "cell_type": "code",
   "execution_count": null,
   "metadata": {},
   "outputs": [],
   "source": []
  },
  {
   "cell_type": "markdown",
   "metadata": {},
   "source": [
    "## 11. Feet to Centimeter Converter\n",
    "### Write a Python program to convert height in feet to centimetres.\n",
    "##### Program Console Sample 1:\n",
    "###### Enter Height in Feet: 5\n",
    "###### There are 152.4 Cm in 5 ft\n",
    "###### Reference:\n",
    "https://www.rapidtables.com/convert/length/feet-to-cm.html"
   ]
  },
  {
   "cell_type": "code",
   "execution_count": 19,
   "metadata": {},
   "outputs": [
    {
     "name": "stdout",
     "output_type": "stream",
     "text": [
      "Enter Height in Feet: 5\n",
      "There are 152.4 Cm in 5.0\n"
     ]
    }
   ],
   "source": [
    "m=float(input(\"Enter Height in Feet: \"))\n",
    "c=30.48\n",
    "x=(m*c)\n",
    "print(\"There are\",x,\"Cm in\",m)"
   ]
  },
  {
   "cell_type": "code",
   "execution_count": null,
   "metadata": {},
   "outputs": [],
   "source": []
  },
  {
   "cell_type": "code",
   "execution_count": null,
   "metadata": {},
   "outputs": [],
   "source": []
  },
  {
   "cell_type": "code",
   "execution_count": null,
   "metadata": {},
   "outputs": [],
   "source": []
  },
  {
   "cell_type": "markdown",
   "metadata": {},
   "source": [
    "## 12. BMI Calculator\n",
    "### Write a Python program to calculate body mass index\n",
    "##### Program Console Sample 1:\n",
    "###### Enter Height in Cm: 180\n",
    "###### Enter Weight in Kg: 75\n",
    "###### Your BMI is 23.15"
   ]
  },
  {
   "cell_type": "code",
   "execution_count": 20,
   "metadata": {},
   "outputs": [
    {
     "name": "stdout",
     "output_type": "stream",
     "text": [
      "ENTER HEIGHT IN CM: 180\n",
      "ENTER WEIGHT IN KG: 75\n",
      "YOUR BMI IS:  23.148148148148145\n"
     ]
    }
   ],
   "source": [
    "m=float(input(\"ENTER HEIGHT IN CM: \"))\n",
    "x=m/100\n",
    "M=float(input(\"ENTER WEIGHT IN KG: \"))\n",
    "n=M/(x*x)\n",
    "print(\"YOUR BMI IS: \",n)"
   ]
  },
  {
   "cell_type": "code",
   "execution_count": null,
   "metadata": {},
   "outputs": [],
   "source": []
  },
  {
   "cell_type": "code",
   "execution_count": null,
   "metadata": {},
   "outputs": [],
   "source": []
  },
  {
   "cell_type": "markdown",
   "metadata": {},
   "source": [
    "## 13. Sum of n Positive Integers\n",
    "### Write a python program to sum of the first n positive integers\n",
    "#### Program Console Sample 1:\n",
    "###### Enter value of n: 5\n",
    "###### Sum of n Positive integers till 5 is 15"
   ]
  },
  {
   "cell_type": "code",
   "execution_count": 21,
   "metadata": {},
   "outputs": [
    {
     "name": "stdout",
     "output_type": "stream",
     "text": [
      "ENTER THE VALUE : 5\n",
      "SUM OF N POSITIVE INTEGER till 5 is 15.0\n"
     ]
    }
   ],
   "source": [
    "n=int(input(\"ENTER THE VALUE : \"))\n",
    "cal=(n*(n+1))/2\n",
    "print(\"SUM OF N POSITIVE INTEGER till\",n,\"is\",cal)"
   ]
  },
  {
   "cell_type": "code",
   "execution_count": null,
   "metadata": {},
   "outputs": [],
   "source": []
  },
  {
   "cell_type": "code",
   "execution_count": null,
   "metadata": {},
   "outputs": [],
   "source": []
  },
  {
   "cell_type": "markdown",
   "metadata": {},
   "source": [
    "## 14. Digits Sum of a Number\n",
    "### Write a Python program to calculate the sum of the digits in an integer\n",
    "#### Program Console Sample 1:\n",
    "##### Enter a number: 15\n",
    "###### Sum of 1 + 5 is 6\n",
    "#### Program Console Sample 2:\n",
    "##### Enter a number: 1234\n",
    "###### Sum of 1 + 2 + 3 + 4 is 10"
   ]
  },
  {
   "cell_type": "code",
   "execution_count": 23,
   "metadata": {},
   "outputs": [
    {
     "name": "stdout",
     "output_type": "stream",
     "text": [
      "Enter a number: 6547\n",
      "Sum of: 22\n"
     ]
    }
   ],
   "source": [
    "x=map(int,str(input((\"Enter a number: \"))))\n",
    "print(\"Sum of:\",sum(x))"
   ]
  },
  {
   "cell_type": "code",
   "execution_count": null,
   "metadata": {},
   "outputs": [],
   "source": []
  },
  {
   "cell_type": "code",
   "execution_count": null,
   "metadata": {},
   "outputs": [],
   "source": []
  },
  {
   "cell_type": "code",
   "execution_count": null,
   "metadata": {},
   "outputs": [],
   "source": []
  },
  {
   "cell_type": "code",
   "execution_count": null,
   "metadata": {},
   "outputs": [],
   "source": []
  },
  {
   "cell_type": "code",
   "execution_count": null,
   "metadata": {},
   "outputs": [],
   "source": []
  },
  {
   "cell_type": "code",
   "execution_count": null,
   "metadata": {},
   "outputs": [],
   "source": []
  },
  {
   "cell_type": "code",
   "execution_count": null,
   "metadata": {},
   "outputs": [],
   "source": []
  }
 ],
 "metadata": {
  "kernelspec": {
   "display_name": "Python 3",
   "language": "python",
   "name": "python3"
  },
  "language_info": {
   "codemirror_mode": {
    "name": "ipython",
    "version": 3
   },
   "file_extension": ".py",
   "mimetype": "text/x-python",
   "name": "python",
   "nbconvert_exporter": "python",
   "pygments_lexer": "ipython3",
   "version": "3.7.3"
  }
 },
 "nbformat": 4,
 "nbformat_minor": 2
}
