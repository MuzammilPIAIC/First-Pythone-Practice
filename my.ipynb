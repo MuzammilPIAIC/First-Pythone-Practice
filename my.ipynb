{
 "cells": [
  {
   "cell_type": "code",
   "execution_count": 4,
   "metadata": {},
   "outputs": [
    {
     "name": "stdout",
     "output_type": "stream",
     "text": [
      "Muzammil\n"
     ]
    }
   ],
   "source": [
    "name = \"Muzammil\"\n",
    "print(name)"
   ]
  },
  {
   "cell_type": "code",
   "execution_count": 5,
   "metadata": {},
   "outputs": [
    {
     "name": "stdout",
     "output_type": "stream",
     "text": [
      "Muzammil\n",
      "18\n",
      "89.89\n"
     ]
    }
   ],
   "source": [
    "name = \"Muzammil\"\n",
    "print(name)\n",
    "age = 18 \n",
    "print(age)\n",
    "percentage = 89.89\n",
    "print(percentage)"
   ]
  },
  {
   "cell_type": "code",
   "execution_count": 6,
   "metadata": {},
   "outputs": [
    {
     "name": "stdout",
     "output_type": "stream",
     "text": [
      "<class 'str'>\n",
      "<class 'int'>\n",
      "<class 'float'>\n"
     ]
    }
   ],
   "source": [
    "name = \"Muzammil\"\n",
    "print(type(name))\n",
    "age = 18 \n",
    "print(type(age))\n",
    "percentage = 89.89\n",
    "print(type(percentage))"
   ]
  },
  {
   "cell_type": "code",
   "execution_count": 12,
   "metadata": {},
   "outputs": [
    {
     "name": "stdout",
     "output_type": "stream",
     "text": [
      "2000\n",
      "int is multiply with int2 2000\n"
     ]
    }
   ],
   "source": [
    "int = 50\n",
    "int1 = 40\n",
    "value = 70\n",
    "print(int * int1)\n",
    "print(\"int is multiply with int2\", int * int1)"
   ]
  },
  {
   "cell_type": "code",
   "execution_count": 13,
   "metadata": {},
   "outputs": [
    {
     "name": "stdout",
     "output_type": "stream",
     "text": [
      "2000\n",
      "int is multiply with int2\t 2000\n"
     ]
    }
   ],
   "source": [
    "int = 50\n",
    "int1 = 40\n",
    "value = 70\n",
    "print(int * int1)\n",
    "print(\"int is multiply with int2\\t\", int * int1)"
   ]
  },
  {
   "cell_type": "code",
   "execution_count": 14,
   "metadata": {},
   "outputs": [
    {
     "name": "stdout",
     "output_type": "stream",
     "text": [
      "MuzammilMuzammilMuzammilMuzammilMuzammil\n"
     ]
    }
   ],
   "source": [
    "name = \"Muzammil\"\n",
    "print(name *5)"
   ]
  },
  {
   "cell_type": "code",
   "execution_count": 17,
   "metadata": {},
   "outputs": [
    {
     "name": "stdout",
     "output_type": "stream",
     "text": [
      "Muzammil Muzammil Muzammil Muzammil Muzammil \n"
     ]
    }
   ],
   "source": [
    "name = \"Muzammil \"\n",
    "print(name*5)"
   ]
  },
  {
   "cell_type": "code",
   "execution_count": 23,
   "metadata": {},
   "outputs": [
    {
     "ename": "TypeError",
     "evalue": "can only concatenate str (not \"int\") to str",
     "output_type": "error",
     "traceback": [
      "\u001b[1;31m---------------------------------------------------------------------------\u001b[0m",
      "\u001b[1;31mTypeError\u001b[0m                                 Traceback (most recent call last)",
      "\u001b[1;32m<ipython-input-23-92778fedb67a>\u001b[0m in \u001b[0;36m<module>\u001b[1;34m\u001b[0m\n\u001b[0;32m      1\u001b[0m \u001b[0mstring\u001b[0m \u001b[1;33m=\u001b[0m \u001b[1;34m\"Muzammil\"\u001b[0m\u001b[1;33m\u001b[0m\u001b[1;33m\u001b[0m\u001b[0m\n\u001b[0;32m      2\u001b[0m \u001b[0minteger\u001b[0m \u001b[1;33m=\u001b[0m \u001b[1;36m65\u001b[0m\u001b[1;33m\u001b[0m\u001b[1;33m\u001b[0m\u001b[0m\n\u001b[1;32m----> 3\u001b[1;33m \u001b[0mprint\u001b[0m\u001b[1;33m(\u001b[0m\u001b[0mstring\u001b[0m\u001b[1;33m+\u001b[0m\u001b[0minteger\u001b[0m\u001b[1;33m)\u001b[0m\u001b[1;33m\u001b[0m\u001b[1;33m\u001b[0m\u001b[0m\n\u001b[0m\u001b[0;32m      4\u001b[0m \u001b[1;31m#integer or string kabhi bhi add nhi ho skte agr krne ki koshish krenge to error ajaega jese\u001b[0m\u001b[1;33m\u001b[0m\u001b[1;33m\u001b[0m\u001b[1;33m\u001b[0m\u001b[0m\n",
      "\u001b[1;31mTypeError\u001b[0m: can only concatenate str (not \"int\") to str"
     ]
    }
   ],
   "source": [
    "string = \"Muzammil\"\n",
    "integer = 65\n",
    "print(string+integer)\n",
    "#integer or string kabhi bhi add nhi ho skte agr krne ki koshish krenge to error ajaega jese"
   ]
  },
  {
   "cell_type": "code",
   "execution_count": 27,
   "metadata": {},
   "outputs": [
    {
     "name": "stdout",
     "output_type": "stream",
     "text": [
      "MUZAMMIL\n",
      "MUZAMMIL\n"
     ]
    }
   ],
   "source": [
    "name = \"muzammil\"\n",
    "print(name.upper())\n",
    "print(\"muzammil\".upper())\n",
    "#is cammand se variable k ander jo value store hogi wo catipal me convert ho jaegi"
   ]
  },
  {
   "cell_type": "code",
   "execution_count": 29,
   "metadata": {},
   "outputs": [
    {
     "name": "stdout",
     "output_type": "stream",
     "text": [
      "muzammil\n",
      "muzammil\n"
     ]
    }
   ],
   "source": [
    "name = \"MUZAMMIL\"\n",
    "print(name.lower())\n",
    "print(\"MUZAMMIL\".lower())\n",
    "#is cammand se variable k ander jo bhi value hogi us ko small letter me convert krde jese"
   ]
  },
  {
   "cell_type": "code",
   "execution_count": 33,
   "metadata": {},
   "outputs": [
    {
     "name": "stdout",
     "output_type": "stream",
     "text": [
      "My Name Is Mohammad Muzammil\n",
      "My Name Is Mohammad Muzammil\n"
     ]
    }
   ],
   "source": [
    "name = \"my name is mohammad muzammil\"\n",
    "print(name.title())\n",
    "print(\"my name is mohammad muzammil\".title())\n",
    "#pythone ki is cammand se hm kisi bhi simple sentance ko ek title me convert kr skte hn jese"
   ]
  },
  {
   "cell_type": "code",
   "execution_count": 37,
   "metadata": {},
   "outputs": [
    {
     "name": "stdout",
     "output_type": "stream",
     "text": [
      "My Name Is Muzammil And My Country Is: Pakistan\n",
      "My Name Is Muzammil And My Country Is:\n",
      " Pakistan\n"
     ]
    }
   ],
   "source": [
    "name = \"my name is muzammil\"\n",
    "country = \"Pakistan\"\n",
    "print(name.title(), \"and my country is:\".title(), country)\n",
    "name = \"my name is muzammil\"\n",
    "country = \"Pakistan\"\n",
    "print(name.title(), \"and my country is:\\n\".title(), country)"
   ]
  },
  {
   "cell_type": "code",
   "execution_count": 39,
   "metadata": {},
   "outputs": [
    {
     "name": "stdout",
     "output_type": "stream",
     "text": [
      "True\n",
      "False\n"
     ]
    }
   ],
   "source": [
    "name = \"Mohammad Muzammil\"\n",
    "print(name.istitle())\n",
    "pakistan = \"mohammad muzammil\" \n",
    "print(pakistan.istitle())\n",
    "\n",
    "#is cammand se hm yeh pta kr stke hn k hamara konsa sentance title me h or konsa nhi agr tilte me hoga to true result aega \n",
    "#or tile me nho hoga to false aega jese"
   ]
  },
  {
   "cell_type": "code",
   "execution_count": 41,
   "metadata": {},
   "outputs": [
    {
     "name": "stdout",
     "output_type": "stream",
     "text": [
      "0\n",
      "4\n",
      "2\n",
      "-1\n",
      "7\n",
      "-1\n",
      "0\n",
      "1\n",
      "-1\n",
      "7\n"
     ]
    }
   ],
   "source": [
    "name = \"Muzammil\"\n",
    "country = \"Pakistan\"\n",
    "\n",
    "print(name.find('M'))\n",
    "print(name.find('m'))\n",
    "print(name.find('z'))\n",
    "print(name.find('x'))\n",
    "print(name.find('l'))\n",
    "print(name.find('L'))\n",
    "\n",
    "print(country.find('P'))\n",
    "print(country.find('a'))\n",
    "print(country.find('K'))\n",
    "print(country.find('n'))\n",
    "\n",
    "#is se ap kisi sentance k ander k word ko find kr skte hn un ki value ki help se \n",
    "#jese jo words sentace me nhi h us ki value -1 ho jaegi or jo word honge un ki value bta dega"
   ]
  },
  {
   "cell_type": "code",
   "execution_count": 42,
   "metadata": {},
   "outputs": [
    {
     "name": "stdout",
     "output_type": "stream",
     "text": [
      "6\n",
      "4\n",
      "0\n",
      "6\n"
     ]
    }
   ],
   "source": [
    "name = 'Muzammil'\n",
    "p = 'Pakistan'\n",
    "print(name.find('il'))\n",
    "print(name.find('mm'))\n",
    "\n",
    "\n",
    "print(p.find('Pa'))\n",
    "print(p.find('an'))"
   ]
  },
  {
   "cell_type": "code",
   "execution_count": 43,
   "metadata": {},
   "outputs": [
    {
     "name": "stdout",
     "output_type": "stream",
     "text": [
      "True\n"
     ]
    }
   ],
   "source": [
    "name = \"Muzammil\"\n",
    "print(name.isalpha())\n",
    "\n",
    "#jo hm ne string form me value likhi h us me agr only alphabets honge to is cammand se hme true result aega \n",
    "#agr is me koi bhi number ya or koi bhi chez add hogi to fales result aega only alphabets honge to hi result true me aega \n"
   ]
  },
  {
   "cell_type": "code",
   "execution_count": 45,
   "metadata": {},
   "outputs": [
    {
     "name": "stdout",
     "output_type": "stream",
     "text": [
      "False\n"
     ]
    }
   ],
   "source": [
    "name = \"Mohammad Muzammil\"\n",
    "print(name.isalpha())\n",
    "\n",
    "#ab jesa k ap ne dekha k alphabets hone ki waja se bhi result false aya q k j bhi 2 words k darmiyaan me space aega to false result aega\n"
   ]
  },
  {
   "cell_type": "code",
   "execution_count": 50,
   "metadata": {},
   "outputs": [
    {
     "name": "stdout",
     "output_type": "stream",
     "text": [
      "False\n",
      "True\n",
      "False\n"
     ]
    }
   ],
   "source": [
    "p = \"123\"\n",
    "n = \"sdm\"\n",
    "m = \"sd mds\"\n",
    "\n",
    "print(p.isalpha())\n",
    "print(n.isalpha())\n",
    "print(m.isalpha())"
   ]
  },
  {
   "cell_type": "code",
   "execution_count": 51,
   "metadata": {},
   "outputs": [
    {
     "name": "stdout",
     "output_type": "stream",
     "text": [
      "True\n",
      "False\n",
      "False\n"
     ]
    }
   ],
   "source": [
    "o = \"123\"\n",
    "p = \" 123\"\n",
    "l = \"123abc\"\n",
    "\n",
    "\n",
    "print(o.isdigit())\n",
    "print(p.isdigit())\n",
    "print(l.isdigit())\n",
    "\n",
    "#is cammad se hm kisi sentance me numeric h ya nhi yeh maloom krskte hn agr numeric me space ajaega to bhi false result aega"
   ]
  },
  {
   "cell_type": "code",
   "execution_count": 52,
   "metadata": {},
   "outputs": [
    {
     "ename": "AttributeError",
     "evalue": "'int' object has no attribute 'isdigit'",
     "output_type": "error",
     "traceback": [
      "\u001b[1;31m---------------------------------------------------------------------------\u001b[0m",
      "\u001b[1;31mAttributeError\u001b[0m                            Traceback (most recent call last)",
      "\u001b[1;32m<ipython-input-52-96a24b82905a>\u001b[0m in \u001b[0;36m<module>\u001b[1;34m\u001b[0m\n\u001b[0;32m      1\u001b[0m \u001b[0me\u001b[0m \u001b[1;33m=\u001b[0m \u001b[1;36m123\u001b[0m\u001b[1;33m\u001b[0m\u001b[1;33m\u001b[0m\u001b[0m\n\u001b[1;32m----> 2\u001b[1;33m \u001b[0mprint\u001b[0m\u001b[1;33m(\u001b[0m\u001b[0me\u001b[0m\u001b[1;33m.\u001b[0m\u001b[0misdigit\u001b[0m\u001b[1;33m(\u001b[0m\u001b[1;33m)\u001b[0m\u001b[1;33m)\u001b[0m\u001b[1;33m\u001b[0m\u001b[1;33m\u001b[0m\u001b[0m\n\u001b[0m",
      "\u001b[1;31mAttributeError\u001b[0m: 'int' object has no attribute 'isdigit'"
     ]
    }
   ],
   "source": [
    "e = 123\n",
    "print(e.isdigit())\n",
    "\n",
    "#hm abhi string me kaam kr rhe hn to quatation lazmi h agr quatation nhi lagaya to error aega"
   ]
  },
  {
   "cell_type": "code",
   "execution_count": 53,
   "metadata": {},
   "outputs": [
    {
     "name": "stdout",
     "output_type": "stream",
     "text": [
      "256\n"
     ]
    }
   ],
   "source": [
    "o = 2**8\n",
    "print(o)\n",
    "\n",
    "#double ** ka mtlb h k 2 ko 8 martaba multiply krega yahni 2*2*2*2*2*2*2*2  is procces ko Exponent kehte hn"
   ]
  },
  {
   "cell_type": "code",
   "execution_count": 54,
   "metadata": {},
   "outputs": [
    {
     "name": "stdout",
     "output_type": "stream",
     "text": [
      "16\n"
     ]
    }
   ],
   "source": [
    "o = 2*8\n",
    "print(o)\n",
    "\n",
    "#is ko simple multiply kehte hn"
   ]
  },
  {
   "cell_type": "code",
   "execution_count": 56,
   "metadata": {},
   "outputs": [
    {
     "name": "stdout",
     "output_type": "stream",
     "text": [
      "10.0\n",
      "1.6666666666666667\n"
     ]
    }
   ],
   "source": [
    "print(20/2)\n",
    "print(5/3)\n",
    "\n",
    "#answer recieved in float type"
   ]
  },
  {
   "cell_type": "code",
   "execution_count": 58,
   "metadata": {},
   "outputs": [
    {
     "name": "stdout",
     "output_type": "stream",
     "text": [
      "60\n",
      "150\n"
     ]
    }
   ],
   "source": [
    "a = 10+50\n",
    "print(a)\n",
    "\n",
    "print(50+100)"
   ]
  },
  {
   "cell_type": "code",
   "execution_count": 60,
   "metadata": {},
   "outputs": [
    {
     "name": "stdout",
     "output_type": "stream",
     "text": [
      "10\n",
      "908\n"
     ]
    }
   ],
   "source": [
    "d = 50-40\n",
    "print(d)\n",
    "print(8383-7475)"
   ]
  },
  {
   "cell_type": "code",
   "execution_count": 62,
   "metadata": {},
   "outputs": [
    {
     "name": "stdout",
     "output_type": "stream",
     "text": [
      "74\n",
      "2559200\n"
     ]
    }
   ],
   "source": [
    "print((20*4)-6)\n",
    "print((40**4)-800)"
   ]
  },
  {
   "cell_type": "code",
   "execution_count": 67,
   "metadata": {},
   "outputs": [
    {
     "name": "stdout",
     "output_type": "stream",
     "text": [
      "mUzAMmIl\n",
      "WINNER\n",
      "convert capital to small & SMALL TO CAPITAL\n"
     ]
    }
   ],
   "source": [
    "name = \"MuZamMiL\"\n",
    "print(name.swapcase())\n",
    "print(\"winner\".swapcase())\n",
    "print(\"convert capital to small & SMALL TO CAPITAL\")\n",
    "\n",
    "#is cammad se hm ksi bhi sentance ko convert kr skte hn agr small h to capital me ho jaega agr capital h to smaal me ho jaega"
   ]
  },
  {
   "cell_type": "code",
   "execution_count": 69,
   "metadata": {},
   "outputs": [
    {
     "name": "stdout",
     "output_type": "stream",
     "text": [
      "M\n",
      "u\n",
      "z\n",
      "a\n",
      "m\n",
      "m\n"
     ]
    }
   ],
   "source": [
    "name = 'Muzammil'\n",
    "print(name[0])\n",
    "print(name[1])\n",
    "print(name[2])\n",
    "print(name[3])\n",
    "print(name[4])\n",
    "print(name[5])\n",
    "\n",
    "#jb bhi hm positive tareqe se krenge to pythone me hamesha counting 0 se start hogi to hame first alphatbets k li 0 likhna prega"
   ]
  },
  {
   "cell_type": "code",
   "execution_count": 71,
   "metadata": {},
   "outputs": [
    {
     "name": "stdout",
     "output_type": "stream",
     "text": [
      "M\n",
      "u\n",
      "z\n",
      "a\n",
      "m\n",
      "m\n",
      "i\n",
      "l\n"
     ]
    }
   ],
   "source": [
    "name = \"Muzammil\"\n",
    "print(name[-8])\n",
    "print(name[-7])\n",
    "print(name[-6])\n",
    "print(name[-5])\n",
    "print(name[-4])\n",
    "print(name[-3])\n",
    "print(name[-2])\n",
    "print(name[-1])\n",
    "\n",
    "\n",
    "#lekin jb hm nagetive tareqe se krenge to hamari counting ulti chlegi or hame -1 pr khatam krdena h nagetive me 0 nh hota \n",
    "#-1 pr count khatam ho jati h"
   ]
  },
  {
   "cell_type": "code",
   "execution_count": 72,
   "metadata": {},
   "outputs": [
    {
     "name": "stdout",
     "output_type": "stream",
     "text": [
      "M u z a m m i l\n"
     ]
    }
   ],
   "source": [
    "name = 'Muzammil'\n",
    "print(name[0], name[1], name[2], name[3], name[4], name[5], name[6], name[7])"
   ]
  },
  {
   "cell_type": "code",
   "execution_count": 74,
   "metadata": {},
   "outputs": [
    {
     "name": "stdout",
     "output_type": "stream",
     "text": [
      "muzammil pakistan pak\n",
      "muzammil\n",
      "pakistan\n"
     ]
    }
   ],
   "source": [
    "p = \"muzammil\", 'pakistan', 'pak'\n",
    "print(p[0], p[1], p[2])\n",
    "p = \"muzammil\", 'pakistan', 'pak'\n",
    "print(p[0])\n",
    "print(p[1])"
   ]
  },
  {
   "cell_type": "code",
   "execution_count": 1,
   "metadata": {},
   "outputs": [
    {
     "name": "stdout",
     "output_type": "stream",
     "text": [
      "<class 'str'> <class 'str'> <class 'str'>\n"
     ]
    }
   ],
   "source": [
    "p = \"muzammil\", 'pakistan', 'pak'\n",
    "print(type(p[0]), type(p[1]), type(p[2]))"
   ]
  },
  {
   "cell_type": "code",
   "execution_count": null,
   "metadata": {},
   "outputs": [],
   "source": []
  },
  {
   "cell_type": "code",
   "execution_count": 5,
   "metadata": {},
   "outputs": [
    {
     "name": "stdout",
     "output_type": "stream",
     "text": [
      "muzammil\n",
      "Pakistan\n"
     ]
    }
   ],
   "source": [
    "p = 'muzxmmil'\n",
    "print(p.replace(\"x\",\"a\"))\n",
    "\n",
    "\n",
    "o = \"Pakivtan\"\n",
    "print(o.replace(\"v\",\"s\"))"
   ]
  },
  {
   "cell_type": "markdown",
   "metadata": {},
   "source": []
  },
  {
   "cell_type": "code",
   "execution_count": 8,
   "metadata": {},
   "outputs": [
    {
     "name": "stdout",
     "output_type": "stream",
     "text": [
      "True\n",
      "False\n"
     ]
    }
   ],
   "source": [
    "name = \"google.com\"\n",
    "print(name.endswith(\".com\"))\n",
    "p = 'muzammil'\n",
    "print(name.endswith(\"xyz\"))\n",
    "\n",
    "#is cammand se akhri ka word agr same hoga to condition true hogi agr same nhi hoa to false aega"
   ]
  },
  {
   "cell_type": "code",
   "execution_count": 9,
   "metadata": {},
   "outputs": [
    {
     "name": "stdout",
     "output_type": "stream",
     "text": [
      "True\n",
      "False\n"
     ]
    }
   ],
   "source": [
    "name = \"google.com\"\n",
    "print(name.startswith(\"goo\"))\n",
    "p = 'muzammil'\n",
    "print(name.startswith(\"xyz\"))\n",
    "\n",
    "#is cammand se hm pehla word agr same hoga to condition true hogi agr same nhi hoa to false aega"
   ]
  },
  {
   "cell_type": "code",
   "execution_count": 18,
   "metadata": {},
   "outputs": [
    {
     "name": "stdout",
     "output_type": "stream",
     "text": [
      "muzammil\n",
      "flower\n"
     ]
    }
   ],
   "source": [
    "name = 'MUZAMMIL'\n",
    "print(name.casefold())\n",
    "\n",
    "p = 'FLOWER'\n",
    "print(p.casefold())"
   ]
  },
  {
   "cell_type": "code",
   "execution_count": 17,
   "metadata": {},
   "outputs": [
    {
     "name": "stdout",
     "output_type": "stream",
     "text": [
      "my name is Muzammil and my age is 25. my percentage is 97.50\n"
     ]
    }
   ],
   "source": [
    "name = \"Muzammil\"\n",
    "age = 25\n",
    "percentage = 97.50\n",
    "\n",
    "print(\"my name is %s and my age is %d. my percentage is %.2f\"%(name,age,percentage))"
   ]
  },
  {
   "cell_type": "code",
   "execution_count": 24,
   "metadata": {},
   "outputs": [
    {
     "name": "stdout",
     "output_type": "stream",
     "text": [
      "my favourite fruit is FLOWER and its Pakivtan year old\n"
     ]
    }
   ],
   "source": [
    "fruit = 'mango'\n",
    "age = 1\n",
    "print(\"my favourite fruit is {} and its {} year old\".format(p,o))"
   ]
  },
  {
   "cell_type": "code",
   "execution_count": 26,
   "metadata": {},
   "outputs": [
    {
     "name": "stdout",
     "output_type": "stream",
     "text": [
      "A Small Try To Learn Pythone\n"
     ]
    }
   ],
   "source": [
    "p = \"a small try to learn pythone\"\n",
    "\n",
    "\n",
    "\n",
    "\n",
    "print(p.title())"
   ]
  },
  {
   "cell_type": "code",
   "execution_count": null,
   "metadata": {},
   "outputs": [],
   "source": []
  }
 ],
 "metadata": {
  "kernelspec": {
   "display_name": "Python 3",
   "language": "python",
   "name": "python3"
  },
  "language_info": {
   "codemirror_mode": {
    "name": "ipython",
    "version": 3
   },
   "file_extension": ".py",
   "mimetype": "text/x-python",
   "name": "python",
   "nbconvert_exporter": "python",
   "pygments_lexer": "ipython3",
   "version": "3.7.3"
  }
 },
 "nbformat": 4,
 "nbformat_minor": 2
}
